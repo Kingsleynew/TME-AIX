{
 "cells": [
  {
   "cell_type": "markdown",
   "metadata": {},
   "source": [
    "# 5G Network Operations Insights with Fine Tuning of EleutherAI/gpt-j-6B\n",
    "## Project Overview\n",
    "This project aims to deliver a 5g network insight with fine tuning a network performant LLM"
   ]
  },
  {
   "cell_type": "code",
   "execution_count": null,
   "metadata": {},
   "outputs": [],
   "source": [
    "%pip install -r requirements.txt"
   ]
  },
  {
   "cell_type": "code",
   "execution_count": null,
   "metadata": {},
   "outputs": [],
   "source": [
    "import lzma\n",
    "import shutil\n",
    "import pandas as pd\n",
    "import os\n",
    "from datasets import Dataset\n",
    "from transformers import GPTJForCausalLM, AutoTokenizer, Trainer, TrainingArguments\n",
    "\n",
    "os.environ[\"PYTORCH_MPS_HIGH_WATERMARK_RATIO\"] = \"0.0\"\n",
    "os.environ[\"CUDA_LAUNCH_BLOCKING\"] = \"1\"\n",
    "# Extract the .xz file\n",
    "with lzma.open('data/5G_netops_data.csv.xz', 'rb') as f_in:\n",
    "    with open('data/5G_netops_data.csv', 'wb') as f_out:\n",
    "        shutil.copyfileobj(f_in, f_out)\n",
    "\n",
    "# Load the synthetic telecom data\n",
    "data_path = \"data/5G_netops_data.csv\"\n",
    "data = pd.read_csv(data_path)\n",
    "\n",
    "# Display basic information about the dataset\n",
    "data.info()\n",
    "data.head()"
   ]
  },
  {
   "cell_type": "code",
   "execution_count": null,
   "metadata": {},
   "outputs": [],
   "source": [
    "# Convert DataFrame to Hugging Face Dataset\n",
    "hf_dataset = Dataset.from_pandas(data)\n",
    "\n",
    "# Define preprocessing function with actual column names\n",
    "def preprocess_function(examples):\n",
    "    input_texts = [\n",
    "        \" \".join([\n",
    "            f\"Date: {date}\",\n",
    "            f\"Cell Availability: {cell_avail}\",\n",
    "            f\"MTTR: {mttr}\",\n",
    "            f\"Throughput: {throughput}\",\n",
    "            f\"Latency: {latency}\",\n",
    "            f\"Packet Loss Rate: {packet_loss}\",\n",
    "            f\"Call Drop Rate: {call_drop}\",\n",
    "            f\"Handover Success Rate: {handover_success}\",\n",
    "            f\"Alarm Count: {alarm_count}\",\n",
    "            f\"Critical Alarm Count: {critical_alarm}\",\n",
    "            f\"Parameter Changes: {param_changes}\",\n",
    "            f\"Successful Configuration Changes: {success_config}\",\n",
    "            f\"Data Usage: {data_usage}\",\n",
    "            f\"User Count: {user_count}\",\n",
    "            f\"Signal Strength: {signal_strength}\",\n",
    "            f\"Jitter: {jitter}\",\n",
    "            f\"Connection Setup Success Rate: {connection_success}\",\n",
    "            f\"Security Incidents: {security_incidents}\",\n",
    "            f\"Authentication Failures: {auth_failures}\"\n",
    "        ]) for date, cell_avail, mttr, throughput, latency, packet_loss, call_drop, handover_success, alarm_count, critical_alarm, param_changes, success_config, data_usage, user_count, signal_strength, jitter, connection_success, security_incidents, auth_failures in zip(\n",
    "            examples['Date'], \n",
    "            examples['Cell Availability (%)'], \n",
    "            examples['MTTR (hours)'], \n",
    "            examples['Throughput (Mbps)'], \n",
    "            examples['Latency (ms)'], \n",
    "            examples['Packet Loss Rate (%)'], \n",
    "            examples['Call Drop Rate (%)'], \n",
    "            examples['Handover Success Rate (%)'], \n",
    "            examples['Alarm Count'], \n",
    "            examples['Critical Alarm Count'], \n",
    "            examples['Parameter Changes'], \n",
    "            examples['Successful Configuration Changes (%)'], \n",
    "            examples['Data Usage (GB)'], \n",
    "            examples['User Count'], \n",
    "            examples['Signal Strength (dBm)'], \n",
    "            examples['Jitter (ms)'], \n",
    "            examples['Connection Setup Success Rate (%)'], \n",
    "            examples['Security Incidents'], \n",
    "            examples['Authentication Failures'])\n",
    "    ]\n",
    "    target_texts = [str(fault_rate) for fault_rate in examples['Fault Occurrence Rate']]\n",
    "    \n",
    "    return {'input_text': input_texts, 'target_text': target_texts}\n",
    "\n",
    "# Apply preprocessing\n",
    "tokenized_dataset = hf_dataset.map(preprocess_function, batched=True)\n"
   ]
  },
  {
   "cell_type": "code",
   "execution_count": null,
   "metadata": {},
   "outputs": [],
   "source": [
    "# Setup Model Structure\n",
    "model_name = \"EleutherAI/gpt-j-6B\"\n",
    "tokenizer = AutoTokenizer.from_pretrained(model_name)\n",
    "\n",
    "# Add a padding token if it doesn't exist\n",
    "if tokenizer.pad_token is None:\n",
    "    tokenizer.add_special_tokens({'pad_token': '[PAD]'})\n",
    "\n",
    "model = GPTJForCausalLM.from_pretrained(model_name)\n",
    "model.resize_token_embeddings(len(tokenizer))\n",
    "\n",
    "tokenizer.pad_token = tokenizer.eos_token\n",
    "\n",
    "def tokenize_function(examples):\n",
    "    inputs = tokenizer(examples['input_text'], padding=\"max_length\", truncation=True, max_length=512)\n",
    "    targets = tokenizer(examples['target_text'], padding=\"max_length\", truncation=True, max_length=512)\n",
    "    return {\n",
    "        'input_ids': inputs['input_ids'],\n",
    "        'attention_mask': inputs['attention_mask'],\n",
    "        'labels': targets['input_ids']\n",
    "    }\n",
    "\n",
    "tokenized_dataset = tokenized_dataset.map(tokenize_function, batched=True)\n",
    "\n",
    "columns = ['input_ids', 'attention_mask', 'labels']\n",
    "tokenized_dataset.set_format(type='torch', columns=columns)\n",
    "\n",
    "# Check the tokenized dataset\n",
    "print(tokenized_dataset[0])"
   ]
  },
  {
   "cell_type": "code",
   "execution_count": 5,
   "metadata": {},
   "outputs": [],
   "source": [
    "training_args = TrainingArguments(\n",
    "    output_dir=\"./results\",\n",
    "    overwrite_output_dir=True,\n",
    "    num_train_epochs=3,\n",
    "    per_device_train_batch_size=1,  # Reduce batch size\n",
    "    gradient_accumulation_steps=8,  # Accumulate gradients over 16 steps\n",
    "    save_steps=10_000,\n",
    "    save_total_limit=2,\n",
    "    logging_dir=\"./logs\",\n",
    ")\n",
    "\n",
    "trainer = Trainer(\n",
    "    model=model,\n",
    "    args=training_args,\n",
    "    train_dataset=tokenized_dataset,\n",
    "    tokenizer=tokenizer,\n",
    ")\n",
    "\n",
    "trainer.train()"
   ]
  },
  {
   "cell_type": "code",
   "execution_count": null,
   "metadata": {},
   "outputs": [],
   "source": [
    "# Results\n",
    "results = trainer.evaluate()\n",
    "print(results)\n"
   ]
  }
 ],
 "metadata": {
  "kernelspec": {
   "display_name": "Python 3",
   "language": "python",
   "name": "python3"
  },
  "language_info": {
   "codemirror_mode": {
    "name": "ipython",
    "version": 3
   },
   "file_extension": ".py",
   "mimetype": "text/x-python",
   "name": "python",
   "nbconvert_exporter": "python",
   "pygments_lexer": "ipython3",
   "version": "3.11.9"
  }
 },
 "nbformat": 4,
 "nbformat_minor": 2
}

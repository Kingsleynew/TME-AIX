{
 "cells": [
  {
   "cell_type": "markdown",
   "metadata": {},
   "source": [
    "# Telecom Service Assurance AI Model (Simple-NN) for NPS Insights\n",
    "Author: Fatih E. NAR\n",
    "\n",
    "## Introduction\n",
    "In this notebook, we showcase a machine learning model to create NPS predictions for telecom networks. Net Promoter Score (NPS) is a customer loyalty metric that measures customers' willingness to recommend a company's products or services to others. It is widely used for assessing customer satisfaction and predicting business growth.\n",
    "\n",
    "Our prediction for the Net Promoter Score (NPS) aims to estimate how likely customers are to recommend our product or service based on various features or factors. By building a predictive model, we can forecast NPS scores for new or unseen data, which can help us understand and improve customer satisfaction."
   ]
  },
  {
   "cell_type": "code",
   "execution_count": null,
   "metadata": {},
   "outputs": [],
   "source": [
    "# Install the required packages\n",
    "%pip install -r requirements.txt"
   ]
  },
  {
   "cell_type": "code",
   "execution_count": null,
   "metadata": {},
   "outputs": [],
   "source": [
    "# Import necessary libraries\n",
    "import numpy as np\n",
    "import pandas as pd\n",
    "import torch\n",
    "import os\n",
    "import torch.nn as nn\n",
    "import torch.optim as optim\n",
    "import matplotlib.pyplot as plt\n",
    "from sklearn.model_selection import train_test_split\n",
    "from sklearn.metrics import mean_squared_error, mean_absolute_error\n",
    "\n",
    "# Check if any accelerator is available \n",
    "if torch.cuda.is_available():\n",
    "    os.environ[\"CUDA_LAUNCH_BLOCKING\"] = \"1\"\n",
    "    device = torch.device(\"cuda\")\n",
    "    torch.cuda.empty_cache()\n",
    "    max_memory_mb = 11.9 * 1024 #Set for <12GB on RTX 4070 Super or <20GB for A4500\n",
    "    os.environ['PYTORCH_CUDA_ALLOC_CONF'] = f'max_split_size_mb:{max_memory_mb}'\n",
    "    print(torch.cuda.device_count())\n",
    "    for i in range(torch.cuda.device_count()):\n",
    "        print(f\"GPU {i}: {torch.cuda.get_device_name(i)}\")\n",
    "    #os.environ[\"CUDA_VISIBLE_DEVICES\"] = \"1\"  # Assuming GPU 1 is the A4500\n",
    "# Check if MPS (Apple Silicon GPU) is available\n",
    "elif torch.backends.mps.is_available():\n",
    "    os.environ[\"PYTORCH_MPS_HIGH_WATERMARK_RATIO\"] = \"0.0\"\n",
    "    os.environ[\"PYTORCH_ENABLE_MPS_FALLBACK\"] = \"1\"\n",
    "    device = torch.device(\"mps\")\n",
    "else:\n",
    "    device = torch.device(\"cpu\")\n",
    "\n",
    "# Load the generated data\n",
    "data = pd.read_csv('data/servass_data.csv.xz', compression='xz', parse_dates=['timestamp'])\n",
    "\n",
    "# Assuming 'nps' is a column in your data and other columns are features\n",
    "features = ['latency', 'jitter', 'packet_loss', 'throughput', 'cpu_usage', 'memory_usage', 'port_speed', 'traffic_volume']\n",
    "target = 'nps'\n",
    "\n",
    "# Split the data into training and validation sets\n",
    "train_data, val_data = train_test_split(data, test_size=0.2, random_state=42)\n",
    "\n",
    "# Convert the data to PyTorch tensors\n",
    "X_train = torch.tensor(train_data[features].values, dtype=torch.float32).to(device)\n",
    "y_train = torch.tensor(train_data[target].values, dtype=torch.float32).view(-1, 1).to(device)\n",
    "X_val = torch.tensor(val_data[features].values, dtype=torch.float32).to(device)\n",
    "y_val = torch.tensor(val_data[target].values, dtype=torch.float32).view(-1, 1).to(device)\n"
   ]
  },
  {
   "cell_type": "code",
   "execution_count": null,
   "metadata": {},
   "outputs": [],
   "source": [
    "# Define a simple neural network model for regression\n",
    "class SimpleNN(nn.Module):\n",
    "    def __init__(self, input_dim):\n",
    "        super(SimpleNN, self).__init__()\n",
    "        self.layer1 = nn.Linear(input_dim, 128)\n",
    "        self.layer2 = nn.Linear(128, 128)\n",
    "        self.output_layer = nn.Linear(128, 1)\n",
    "\n",
    "    def forward(self, x):\n",
    "        x = torch.relu(self.layer1(x))\n",
    "        x = torch.relu(self.layer2(x))\n",
    "        x = self.output_layer(x)\n",
    "        return x\n",
    "\n",
    "# Initialize the model, loss function, and optimizer\n",
    "model = SimpleNN(input_dim=len(features)).to(device)\n",
    "criterion = nn.MSELoss()\n",
    "optimizer = optim.Adam(model.parameters(), lr=0.001)"
   ]
  },
  {
   "cell_type": "code",
   "execution_count": null,
   "metadata": {},
   "outputs": [],
   "source": [
    "# Train the model\n",
    "epochs = 1000\n",
    "for epoch in range(epochs):\n",
    "    model.train()\n",
    "    optimizer.zero_grad()\n",
    "    outputs = model(X_train)\n",
    "    loss = criterion(outputs, y_train)\n",
    "    loss.backward()\n",
    "    optimizer.step()\n",
    "    if (epoch+1) % 10 == 0:\n",
    "        print(f'Epoch [{epoch+1}/{epochs}], Loss: {loss.item():.4f}')\n"
   ]
  },
  {
   "cell_type": "code",
   "execution_count": null,
   "metadata": {},
   "outputs": [],
   "source": [
    "# Evaluate the model\n",
    "model.eval()\n",
    "with torch.no_grad():\n",
    "    predictions = model(X_val).flatten().cpu()\n",
    "    labels = y_val.flatten().cpu()\n",
    "    predictions_np = predictions.numpy()\n",
    "    labels_np = labels.numpy()\n",
    "    mse = mean_squared_error(labels_np, predictions_np)\n",
    "    mae = mean_absolute_error(labels_np, predictions_np)\n",
    "    mape = np.mean(np.abs((labels_np - predictions_np) / labels_np)) * 100\n",
    "    print(f\"Validation MSE: {mse:.4f}\")\n",
    "    print(f\"Validation MAE: {mae:.4f}\")\n",
    "    print(f\"Validation MAPE: {mape:.2f}%\")"
   ]
  },
  {
   "cell_type": "code",
   "execution_count": null,
   "metadata": {
    "tags": []
   },
   "outputs": [],
   "source": [
    "# Plot predictions vs actual values with color coding for errors\n",
    "errors = np.abs(labels_np - predictions_np)\n",
    "plt.figure(figsize=(10, 6))\n",
    "scatter = plt.scatter(labels_np, predictions_np, c=errors, cmap='coolwarm', alpha=0.5)\n",
    "# Ideal line for perfect predictions\n",
    "plt.plot([0, 10], [0, 10], '--', color='red', label='Ideal 1:1 Line')\n",
    "plt.xlabel('Actual NPS')\n",
    "plt.ylabel('Predicted NPS')\n",
    "plt.title('Actual vs Predicted NPS')\n",
    "colorbar = plt.colorbar(scatter)\n",
    "colorbar.set_label('Prediction Error')\n",
    "plt.text(10, -2, 'Blue = Good (Small Error)\\nRed = Bad (Large Error)', fontsize=8, bbox=dict(facecolor='white', alpha=0.5))\n",
    "plt.legend()\n",
    "plt.show()"
   ]
  }
 ],
 "metadata": {
  "kernelspec": {
   "display_name": "Python 3.9",
   "language": "python",
   "name": "python3"
  },
  "language_info": {
   "codemirror_mode": {
    "name": "ipython",
    "version": 3
   },
   "file_extension": ".py",
   "mimetype": "text/x-python",
   "name": "python",
   "nbconvert_exporter": "python",
   "pygments_lexer": "ipython3",
   "version": "3.9.18"
  }
 },
 "nbformat": 4,
 "nbformat_minor": 4
}

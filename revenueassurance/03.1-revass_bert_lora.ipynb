{
 "cells": [
  {
   "attachments": {},
   "cell_type": "markdown",
   "metadata": {},
   "source": [
    "# Telecom Revenue Assurance AI Model (Fine-Tuned BERT)\n",
    "Author: Fatih E. NAR\n",
    "\n"
   ]
  },
  {
   "cell_type": "code",
   "execution_count": null,
   "metadata": {},
   "outputs": [],
   "source": [
    "# Install Necessary Libraries\n",
    "!pip install -r requirements.txt\n",
    "!pip install transformers datasets torch scikit-learn accelerate -U\n",
    "!pip install transformers datasets accelerate peft bitsandbytes"
   ]
  },
  {
   "cell_type": "code",
   "execution_count": null,
   "metadata": {},
   "outputs": [],
   "source": [
    "# Import Libraries\n",
    "import pandas as pd\n",
    "import torch\n",
    "import numpy as np\n",
    "import lzma\n",
    "import shutil\n",
    "from sklearn.model_selection import train_test_split\n",
    "from transformers import AutoTokenizer, AutoModelForSequenceClassification, Trainer, TrainingArguments\n",
    "from datasets import Dataset\n",
    "from transformers import AutoTokenizer, AutoModelForSequenceClassification\n",
    "from peft import LoraConfig, get_peft_model\n",
    "import bitsandbytes as bnb\n",
    "\n",
    "# Extract the .xz file\n",
    "with lzma.open('data/telecom_revass_data.csv.xz', 'rb') as f_in:\n",
    "    with open('data/telecom_revass_data.csv', 'wb') as f_out:\n",
    "        shutil.copyfileobj(f_in, f_out)\n",
    "\n",
    "# Check if MPS (Metal Performance Shaders) or CUDA is available\n",
    "if torch.backends.mps.is_available():\n",
    "    device = torch.device(\"mps\")\n",
    "elif torch.cuda.is_available():\n",
    "    device = 'cuda'\n",
    "else:\n",
    "    device = torch.device(\"cpu\")\n",
    "\n",
    "\n",
    "print(f'Using device: {device}')\n",
    "\n",
    "# Load your dataset\n",
    "df = pd.read_csv('data/telecom_revass_data.csv')\n",
    "\n",
    "# Convert data to text format (example)\n",
    "df['text'] = df.apply(lambda row: f\"Call Duration: {row['Call_Duration']}, Data Usage: {row['Data_Usage']}, SMS Count: {row['Sms_Count']}, Roaming Indicator: {row['Roaming_Indicator']}, Mobile Wallet Use: {row['MobileWallet_Use']}, Plan Type: {row['Plan_Type']}, Cost: {row['Cost']}, Cellular Location Distance: {row['Cellular_Location_Distance']}, Last Time Pin Used: {row['Last_Time_Pin_Used']}, Avg Call Duration: {row['Avg_Call_Duration']}, Avg Data Usage: {row['Avg_Data_Usage']}, Avg Cost: {row['Avg_Cost']}\", axis=1)\n",
    "\n",
    "# Split the data\n",
    "train_df, test_df = train_test_split(df, test_size=0.3, random_state=42, stratify=df['Fraud'])\n",
    "\n",
    "# Convert to Hugging Face Dataset\n",
    "train_dataset = Dataset.from_pandas(train_df[['text', 'Fraud']])\n",
    "test_dataset = Dataset.from_pandas(test_df[['text', 'Fraud']])\n",
    "\n",
    "# Load pre-trained model and tokenizer\n",
    "model_name = 'bert-base-uncased'\n",
    "tokenizer = AutoTokenizer.from_pretrained(model_name)\n",
    "model = AutoModelForSequenceClassification.from_pretrained(model_name, num_labels=2).to(device)\n",
    "\n",
    "# Apply LoRA to the model\n",
    "#config = LoraConfig(r=8, lora_alpha=16, lora_dropout=0.1, bias=\"none\")\n",
    "config = LoraConfig(r=4, lora_alpha=8, lora_dropout=0.2, bias=\"none\")\n",
    "model = get_peft_model(model, config)\n",
    "\n",
    "# Enable 8-bit precision by using the 8-bit optimizer < Enable when using with NVIDIA\n",
    "optimizer = bnb.optim.AdamW8bit(model.parameters(), lr=5e-5)\n"
   ]
  },
  {
   "cell_type": "code",
   "execution_count": null,
   "metadata": {},
   "outputs": [],
   "source": [
    "# Tokenize the data\n",
    "def tokenize_function(examples):\n",
    "    return tokenizer(examples['text'], padding='max_length', truncation=True)\n",
    "\n",
    "train_dataset = train_dataset.map(tokenize_function, batched=True)\n",
    "test_dataset = test_dataset.map(tokenize_function, batched=True)\n",
    "\n",
    "train_dataset = train_dataset.rename_column('Fraud', 'labels')\n",
    "test_dataset = test_dataset.rename_column('Fraud', 'labels')\n",
    "\n",
    "train_dataset.set_format(type='torch', columns=['input_ids', 'attention_mask', 'labels'])\n",
    "test_dataset.set_format(type='torch', columns=['input_ids', 'attention_mask', 'labels'])\n",
    "\n",
    "# Training arguments\n",
    "training_args = TrainingArguments(\n",
    "    output_dir='./results',\n",
    "    evaluation_strategy='epoch',\n",
    "    num_train_epochs=3,\n",
    "    learning_rate=2e-5,\n",
    "    per_device_train_batch_size=4,\n",
    "    per_device_eval_batch_size=16,\n",
    "    gradient_accumulation_steps=4,  # Accumulate gradients\n",
    "    fp16=True,  # Enable mixed precision training  < Enable when using with NVIDIA\n",
    "    push_to_hub=False,\n",
    "    logging_dir='./logs',\n",
    "    logging_steps=10,\n",
    ")\n",
    "\n",
    "# Define custom compute_metrics function\n",
    "def compute_metrics(p):\n",
    "    pred, labels = p\n",
    "    pred = np.argmax(pred, axis=1)\n",
    "    accuracy = (pred == labels).mean()\n",
    "    return {'accuracy': accuracy}"
   ]
  },
  {
   "cell_type": "code",
   "execution_count": null,
   "metadata": {},
   "outputs": [],
   "source": [
    "# Trainer\n",
    "trainer = Trainer(\n",
    "    model=model,\n",
    "    args=training_args,\n",
    "    #train_dataset=train_dataset,\n",
    "    #eval_dataset=test_dataset,\n",
    "    compute_metrics=compute_metrics,\n",
    "    train_dataset=train_dataset.select(range(1000)),  # Use a subset for debugging\n",
    "    eval_dataset=test_dataset.select(range(200)),  # Use a subset for debugging\n",
    "    tokenizer=tokenizer,\n",
    "    optimizers=(optimizer, None),  # Custom optimizer  < Enable when using with NVIDIA\n",
    ")\n",
    "\n",
    "# Train the model\n",
    "trainer.train()"
   ]
  },
  {
   "cell_type": "code",
   "execution_count": null,
   "metadata": {},
   "outputs": [],
   "source": [
    "# Evaluate the model\n",
    "results = trainer.evaluate()\n",
    "print(results)"
   ]
  },
  {
   "cell_type": "code",
   "execution_count": null,
   "metadata": {},
   "outputs": [],
   "source": [
    "# Save the fine-tuned model\n",
    "model.save_pretrained('models/fine-tuned-bert-perf-revass')\n",
    "tokenizer.save_pretrained('models/fine-tuned-bert-perf-revass')"
   ]
  }
 ],
 "metadata": {
  "kernelspec": {
   "display_name": "Python 3",
   "language": "python",
   "name": "python3"
  },
  "language_info": {
   "codemirror_mode": {
    "name": "ipython",
    "version": 3
   },
   "file_extension": ".py",
   "mimetype": "text/x-python",
   "name": "python",
   "nbconvert_exporter": "python",
   "pygments_lexer": "ipython3",
   "version": "3.11.7"
  }
 },
 "nbformat": 4,
 "nbformat_minor": 2
}

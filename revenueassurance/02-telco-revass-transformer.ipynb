{
 "cells": [
  {
   "cell_type": "markdown",
   "id": "e3ba31c4",
   "metadata": {},
   "source": [
    "## Telecom Revenue Assurance AI Model (Transformer-NN From Dust) \n",
    "Author: Fatih E. NAR"
   ]
  },
  {
   "cell_type": "code",
   "execution_count": null,
   "id": "86fcd88a",
   "metadata": {},
   "outputs": [],
   "source": [
    "## Install dependencies\n",
    "!pip install -r requirements.txt\n",
    "!pip install torch transformers"
   ]
  },
  {
   "cell_type": "code",
   "execution_count": null,
   "id": "9bf0aff7",
   "metadata": {},
   "outputs": [],
   "source": [
    "import torch\n",
    "import torch.nn as nn\n",
    "import torch.optim as optim\n",
    "from torch.utils.data import DataLoader, TensorDataset\n",
    "import pandas as pd\n",
    "import numpy as np\n",
    "import lzma\n",
    "import shutil\n",
    "from sklearn.model_selection import train_test_split\n",
    "from sklearn.preprocessing import StandardScaler, OneHotEncoder\n",
    "from sklearn.compose import ColumnTransformer\n",
    "from sklearn.pipeline import Pipeline\n",
    "\n",
    "# Extract the .xz file\n",
    "with lzma.open('data/telecom_revass_data.csv.xz', 'rb') as f_in:\n",
    "    with open('data/telecom_revass_data.csv', 'wb') as f_out:\n",
    "        shutil.copyfileobj(f_in, f_out)\n",
    "\n",
    "# Load the synthetic telecom data\n",
    "data_path = \"data/telecom_revass_data.csv\"\n",
    "df = pd.read_csv(data_path)\n",
    "\n",
    "# Drop the 'Fraud' column to exclude it from features\n",
    "X = df.drop('Fraud', axis=1)\n",
    "y = df['Fraud']\n",
    "\n",
    "# Identify categorical and numerical columns\n",
    "categorical_cols = X.select_dtypes(include=['object', 'category']).columns\n",
    "numerical_cols = X.select_dtypes(include=(['number'])).columns\n",
    "\n",
    "# Preprocessing for numerical data\n",
    "numerical_transformer = Pipeline(steps=[('scaler', StandardScaler())])\n",
    "\n",
    "# Preprocessing for categorical data\n",
    "categorical_transformer = Pipeline(steps=[('onehot', OneHotEncoder(handle_unknown='ignore'))])\n",
    "\n",
    "# Bundle preprocessing for numerical and categorical data\n",
    "preprocessor = ColumnTransformer(\n",
    "    transformers=[\n",
    "        ('num', numerical_transformer, numerical_cols),\n",
    "        ('cat', categorical_transformer, categorical_cols)\n",
    "    ])\n",
    "\n",
    "# Split the data into training and testing sets\n",
    "X_train, X_test, y_train, y_test = train_test_split(X, y, test_size=0.3, random_state=42, stratify=y)\n",
    "\n",
    "# Fit the preprocessor on the training data\n",
    "preprocessor.fit(X_train)\n",
    "\n",
    "# Transform the features\n",
    "X_train_transformed = preprocessor.transform(X_train)\n",
    "X_test_transformed = preprocessor.transform(X_test)\n",
    "\n",
    "# Create PyTorch datasets\n",
    "tensor_X_train = torch.tensor(X_train_transformed, dtype=torch.float32)\n",
    "tensor_y_train = torch.tensor(y_train.values, dtype=torch.float32).unsqueeze(1)  # Reshape to (batch_size, 1)\n",
    "train_dataset = TensorDataset(tensor_X_train, tensor_y_train)\n",
    "\n",
    "tensor_X_test = torch.tensor(X_test_transformed, dtype=torch.float32)\n",
    "tensor_y_test = torch.tensor(y_test.values, dtype=torch.float32).unsqueeze(1)  # Reshape to (batch_size, 1)\n",
    "test_dataset = TensorDataset(tensor_X_test, tensor_y_test)"
   ]
  },
  {
   "cell_type": "code",
   "execution_count": null,
   "id": "071d1f73",
   "metadata": {},
   "outputs": [],
   "source": [
    "# Check if MPS (Metal Performance Shaders) or CUDA is available\n",
    "if torch.backends.mps.is_available():\n",
    "    device = torch.device(\"mps\")\n",
    "elif torch.cuda.is_available():\n",
    "    device = torch.device(\"cuda\")\n",
    "else:\n",
    "    device = torch.device(\"cpu\")\n",
    "print(f\"Using device: {device}\")"
   ]
  },
  {
   "cell_type": "markdown",
   "id": "d4d02c25",
   "metadata": {},
   "source": [
    "## Model Definition and Training using Transformer Architecture"
   ]
  },
  {
   "cell_type": "code",
   "execution_count": null,
   "id": "61702bbd",
   "metadata": {},
   "outputs": [],
   "source": [
    "# Define model architecture\n",
    "class SimpleTransformerModel(nn.Module):\n",
    "    def __init__(self, input_dim, d_model, nhead, output_dim):\n",
    "        super(SimpleTransformerModel, self).__init__()\n",
    "        self.input_projection = nn.Linear(input_dim, d_model)\n",
    "        self.encoder_layer = nn.TransformerEncoderLayer(d_model=d_model, nhead=nhead, batch_first=True)\n",
    "        self.transformer_encoder = nn.TransformerEncoder(self.encoder_layer, num_layers=2)\n",
    "        self.fc = nn.Linear(d_model, output_dim)\n",
    "    \n",
    "    def forward(self, x):\n",
    "        x = self.input_projection(x)\n",
    "        x = self.transformer_encoder(x.unsqueeze(1))  # Add sequence dimension\n",
    "        x = x.mean(dim=1)  # Aggregate over the sequence dimension, retaining batch size\n",
    "        x = self.fc(x).squeeze(1)  # Output shape: (batch_size)\n",
    "        return x\n",
    "\n",
    "# Training parameters\n",
    "input_dim = X_train_transformed.shape[1]\n",
    "d_model = 32\n",
    "nhead = 2\n",
    "output_dim = 1  # Output should be a single value for binary classification\n",
    "\n",
    "# Initialize model, loss function, and optimizer\n",
    "model = SimpleTransformerModel(input_dim, d_model, nhead, output_dim)\n",
    "criterion = nn.BCEWithLogitsLoss()\n",
    "optimizer = optim.Adam(model.parameters(), lr=0.001)\n",
    "\n",
    "# Training loop\n",
    "num_epochs = 10\n",
    "batch_size = 64\n",
    "train_dataloader = DataLoader(train_dataset, batch_size=batch_size, shuffle=True)\n",
    "\n",
    "# Ensure your model is on the correct device\n",
    "model.to(device)\n",
    "\n",
    "# Training loop\n",
    "for epoch in range(num_epochs):\n",
    "    model.train()\n",
    "    for X_batch, y_batch in train_dataloader:\n",
    "        # Move data to the same device as the model\n",
    "        X_batch = X_batch.to(device)\n",
    "        y_batch = y_batch.to(device)\n",
    "        optimizer.zero_grad()\n",
    "        outputs = model(X_batch)\n",
    "        loss = criterion(outputs, y_batch.squeeze(1))  # Ensure target is of shape (batch_size)\n",
    "        loss.backward()\n",
    "        optimizer.step()\n",
    "    print(f\"Epoch {epoch+1}/{num_epochs}, Loss: {loss.item()}\")"
   ]
  },
  {
   "cell_type": "markdown",
   "id": "8aa16916",
   "metadata": {},
   "source": [
    "## Model Evaluation"
   ]
  },
  {
   "cell_type": "code",
   "execution_count": null,
   "id": "c4427ece",
   "metadata": {},
   "outputs": [],
   "source": [
    "# Evaluation on the test set\n",
    "model.eval()\n",
    "test_dataloader = DataLoader(test_dataset, batch_size=batch_size, shuffle=False)\n",
    "test_loss = 0\n",
    "correct = 0\n",
    "with torch.no_grad():\n",
    "    for X_batch, y_batch in test_dataloader:\n",
    "        # Move data to the same device as the model\n",
    "        X_batch = X_batch.to(device)\n",
    "        y_batch = y_batch.to(device)\n",
    "        outputs = model(X_batch)\n",
    "        loss = criterion(outputs, y_batch.squeeze(1))\n",
    "        test_loss += loss.item()\n",
    "        preds = (torch.sigmoid(outputs) > 0.5).float()\n",
    "        correct += (preds == y_batch.squeeze(1)).sum().item()\n",
    "\n",
    "test_loss /= len(test_dataloader)\n",
    "accuracy = correct / len(test_dataset)\n",
    "print(f\"Test Loss: {test_loss}, Test Accuracy: {accuracy}\")\n"
   ]
  },
  {
   "cell_type": "markdown",
   "id": "6a436a0a",
   "metadata": {},
   "source": [
    "## Saving the Model"
   ]
  },
  {
   "cell_type": "code",
   "execution_count": null,
   "id": "54528134",
   "metadata": {},
   "outputs": [],
   "source": [
    "# Save the model\n",
    "model_path = 'models/revass_transformer_model.pth'\n",
    "torch.save(model.state_dict(), model_path)\n",
    "print(f\"Model saved to {model_path}\")"
   ]
  }
 ],
 "metadata": {
  "kernelspec": {
   "display_name": "Python 3",
   "language": "python",
   "name": "python3"
  },
  "language_info": {
   "codemirror_mode": {
    "name": "ipython",
    "version": 3
   },
   "file_extension": ".py",
   "mimetype": "text/x-python",
   "name": "python",
   "nbconvert_exporter": "python",
   "pygments_lexer": "ipython3",
   "version": "3.9.6"
  }
 },
 "nbformat": 4,
 "nbformat_minor": 5
}
